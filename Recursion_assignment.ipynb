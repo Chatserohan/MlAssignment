{
 "cells": [
  {
   "cell_type": "code",
   "execution_count": null,
   "metadata": {},
   "outputs": [],
   "source": []
  },
  {
   "cell_type": "code",
   "execution_count": null,
   "metadata": {},
   "outputs": [],
   "source": [
    "# name: Rohan chatse \n",
    "# assignment name : Recursion assignment \n",
    "# course : Full stack data science pro \n",
    "\n",
    "# git link :"
   ]
  },
  {
   "cell_type": "markdown",
   "metadata": {},
   "source": [
    "Q.1 Can you explain the logic and working of the Tower of Hanoi algorithm by writing a Java program?\n",
    "How does the recursion work, and how are the movements of disks between rods accomplished?"
   ]
  },
  {
   "cell_type": "code",
   "execution_count": null,
   "metadata": {},
   "outputs": [],
   "source": [
    "'''The logic behind the Tower of Hanoi puzzle is based on a recursive strategy that \n",
    "simplifies the problem by breaking it into smaller, more manageable parts. \n",
    "\n",
    "The core idea is to move a stack of disks from one rod to another using an auxiliary rod, \n",
    "while adhering to the constraint that only one disk can be moved at a time and no disk can be \n",
    "placed on top of a smaller disk. \n",
    "\n",
    "The solution involves three main steps: first, recursively moving the top ( n-1 ) disks from the \n",
    "source rod to the auxiliary rod, thus freeing up the largest disk \n",
    "\n",
    "second, moving the largest disk directly from the source rod to the destination rod \n",
    "\n",
    "third, recursively moving the ( n-1 ) disks from the auxiliary rod to the destination rod. \n",
    "\n",
    "Each recursive call tackles a smaller version of the original problem, progressively solving \n",
    "it until reaching the simplest case where only one disk needs to be moved directly. \n",
    "\n",
    "This divide-and-conquer approach efficiently resolves the puzzle by systematically breaking \n",
    "it down and solving each part, demonstrating the power of recursion in managing complex tasks.'''"
   ]
  },
  {
   "cell_type": "markdown",
   "metadata": {},
   "source": [
    "Q.2 Given two strings word1 and word2, return the minimum number of operations required to convert word1\n",
    "to word2."
   ]
  },
  {
   "cell_type": "markdown",
   "metadata": {},
   "source": [
    "Example 1:\n",
    "Input: word1 = \"horse\", word2 = \"ros\"\n",
    "Output: 3\n",
    "Explanation:\n",
    "horse -> rorse (replace 'h' with 'r')\n",
    "rorse -> rose (remove 'r')\n",
    "rose -> ros (remove 'e')"
   ]
  },
  {
   "cell_type": "code",
   "execution_count": null,
   "metadata": {},
   "outputs": [],
   "source": []
  },
  {
   "cell_type": "markdown",
   "metadata": {},
   "source": [
    "Example 2:\n",
    "Input: word1 = \"intention\", word2 = \"execution\"\n",
    "Output: 5\n",
    "Explanation:\n",
    "intention -> inention (remove 't')\n",
    "inention -> enention (replace 'i' with 'e')\n",
    "enention -> exention (replace 'n' with 'x')\n",
    "exention -> exection (replace 'n' with 'c')\n",
    "exection -> execution (insert 'u')"
   ]
  },
  {
   "cell_type": "code",
   "execution_count": null,
   "metadata": {},
   "outputs": [],
   "source": []
  },
  {
   "cell_type": "markdown",
   "metadata": {},
   "source": [
    "Q. 3 Print the max value of the array [ 13, 1, -3, 22, 5]."
   ]
  },
  {
   "cell_type": "code",
   "execution_count": 1,
   "metadata": {},
   "outputs": [
    {
     "name": "stdout",
     "output_type": "stream",
     "text": [
      "The maximum value is: 22\n"
     ]
    }
   ],
   "source": [
    "def find_max(array, start, end):\n",
    "    \n",
    "    if start == end:\n",
    "        return array[start]\n",
    "\n",
    "    mid = (start + end) // 2\n",
    "\n",
    "    max_left = find_max(array, start, mid)\n",
    "    max_right = find_max(array, mid + 1, end)\n",
    "\n",
    "    return max(max_left, max_right)\n",
    "\n",
    "\n",
    "array = [13, 1, -3, 22, 5]\n",
    "max_value = find_max(array, 0, len(array) - 1)\n",
    "print(\"The maximum value is:\", max_value)\n"
   ]
  },
  {
   "cell_type": "markdown",
   "metadata": {},
   "source": [
    "Q.4 Find the sum of the values of the array [92, 23, 15, -20, 10]."
   ]
  },
  {
   "cell_type": "code",
   "execution_count": 2,
   "metadata": {},
   "outputs": [
    {
     "name": "stdout",
     "output_type": "stream",
     "text": [
      "The sum of the values is: 120\n"
     ]
    }
   ],
   "source": [
    "def recursive_sum(array, index):\n",
    "    \n",
    "    if index >= len(array):\n",
    "        return 0\n",
    "\n",
    "    return array[index] + recursive_sum(array, index + 1)\n",
    "\n",
    "array = [92, 23, 15, -20, 10]\n",
    "total_sum = recursive_sum(array, 0)\n",
    "print(\"The sum of the values is:\", total_sum)\n"
   ]
  },
  {
   "cell_type": "markdown",
   "metadata": {},
   "source": [
    "Q.5 Given a number n. Print if it is an armstrong number or not.An armstrong number is a number if the sum\n",
    "of every digit in that number raised to the power of total digits in that number is equal to the number."
   ]
  },
  {
   "cell_type": "code",
   "execution_count": 3,
   "metadata": {},
   "outputs": [
    {
     "name": "stdout",
     "output_type": "stream",
     "text": [
      "10 is not an Armstrong number.\n"
     ]
    }
   ],
   "source": [
    "def is_armstrong_number(n):\n",
    "    \n",
    "    digits = str(n)\n",
    "    num_digits = len(digits)\n",
    "    \n",
    "    sum_of_powers = sum(int(digit) ** num_digits for digit in digits)\n",
    "    return sum_of_powers == n\n",
    "\n",
    "number = int(input(\"Enter a number: \"))\n",
    "if is_armstrong_number(number):\n",
    "    print(f\"{number} is an Armstrong number.\")\n",
    "else:\n",
    "    print(f\"{number} is not an Armstrong number.\")\n"
   ]
  }
 ],
 "metadata": {
  "kernelspec": {
   "display_name": "Python 3",
   "language": "python",
   "name": "python3"
  },
  "language_info": {
   "codemirror_mode": {
    "name": "ipython",
    "version": 3
   },
   "file_extension": ".py",
   "mimetype": "text/x-python",
   "name": "python",
   "nbconvert_exporter": "python",
   "pygments_lexer": "ipython3",
   "version": "3.8.10"
  }
 },
 "nbformat": 4,
 "nbformat_minor": 2
}
